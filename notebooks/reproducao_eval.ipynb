{
 "cells": [
  {
   "cell_type": "markdown",
   "metadata": {},
   "source": [
    "# setup"
   ]
  },
  {
   "cell_type": "code",
   "execution_count": 1,
   "metadata": {},
   "outputs": [],
   "source": [
    "import os\n",
    "\n",
    "if os.getcwd().split('/')[-1] == 'notebooks':\n",
    "    os.chdir('..')"
   ]
  },
  {
   "cell_type": "code",
   "execution_count": 2,
   "metadata": {},
   "outputs": [],
   "source": [
    "import torch"
   ]
  },
  {
   "cell_type": "code",
   "execution_count": 20,
   "metadata": {},
   "outputs": [],
   "source": [
    "from dataloaders.code15text import CODE as DS\n",
    "from dataloaders.code15text import CODEsplit as DSsplit\n",
    "from dataloaders.codetest import CODEtest\n",
    "from models.join import JoinText\n",
    "from models.baseline import ResnetBaseline\n",
    "from runners.l1 import Runner\n",
    "from hparams import BATCH_SIZE, NUM_WORKERS\n",
    "from utils import json_dump"
   ]
  },
  {
   "cell_type": "code",
   "execution_count": 4,
   "metadata": {},
   "outputs": [],
   "source": [
    "model_label = 'code15l1'"
   ]
  },
  {
   "cell_type": "markdown",
   "metadata": {},
   "source": [
    "# init"
   ]
  },
  {
   "cell_type": "code",
   "execution_count": 5,
   "metadata": {},
   "outputs": [],
   "source": [
    "device = torch.device('cuda' if torch.cuda.is_available() else 'cpu')\n",
    "\n",
    "database = DS()\n",
    "tst_ds = CODEtest()\n",
    "\n",
    "model = JoinText(ResnetBaseline(n_classes = 6))\n",
    "model = torch.load('output/{}/{}.pt'.format(model_label, model_label))"
   ]
  },
  {
   "cell_type": "code",
   "execution_count": 6,
   "metadata": {},
   "outputs": [],
   "source": [
    "runner = Runner(device = device, model = model, database = database, Split = DSsplit, model_label = model_label)"
   ]
  },
  {
   "cell_type": "markdown",
   "metadata": {},
   "source": [
    "# run"
   ]
  },
  {
   "cell_type": "code",
   "execution_count": 10,
   "metadata": {},
   "outputs": [],
   "source": [
    "val_dl = torch.utils.data.DataLoader(runner.val_ds, batch_size = BATCH_SIZE, \n",
    "                                     shuffle = False, num_workers = NUM_WORKERS)\n",
    "tst_dl = torch.utils.data.DataLoader(tst_ds, batch_size = BATCH_SIZE, \n",
    "                                     shuffle = False, num_workers = NUM_WORKERS)"
   ]
  },
  {
   "cell_type": "code",
   "execution_count": 25,
   "metadata": {},
   "outputs": [],
   "source": [
    "best_f1s, best_thresholds = runner._synthesis(val_dl, best_thresholds = None)\n",
    "all_binary_results, all_true_labels, metrics_dict = runner._synthesis(tst_dl, best_thresholds)\n",
    "json_dump(metrics_dict, model_label, test = True)"
   ]
  },
  {
   "cell_type": "code",
   "execution_count": 12,
   "metadata": {},
   "outputs": [
    {
     "data": {
      "text/plain": [
       "{'Accuracy': [0.9794437726723095,\n",
       "  0.9854897218863361,\n",
       "  0.992744860943168,\n",
       "  0.9915356711003628,\n",
       "  0.9891172914147521,\n",
       "  0.9842805320435308,\n",
       "  0.9407496977025392],\n",
       " 'F1 Score': [0.5641025641025641,\n",
       "  0.8000000000000002,\n",
       "  0.888888888888889,\n",
       "  0.7999999999999999,\n",
       "  0.6666666666666666,\n",
       "  0.7936507936507937,\n",
       "  0.964924838940587],\n",
       " 'AUC ROC': [0.6964285714285714,\n",
       "  0.851680142422669,\n",
       "  0.9,\n",
       "  0.9344173859432798,\n",
       "  0.8430825930825931,\n",
       "  0.8372049264454328,\n",
       "  0.8510248828274294]}"
      ]
     },
     "execution_count": 12,
     "metadata": {},
     "output_type": "execute_result"
    }
   ],
   "source": [
    "metrics_dict"
   ]
  }
 ],
 "metadata": {
  "kernelspec": {
   "display_name": "clip",
   "language": "python",
   "name": "python3"
  },
  "language_info": {
   "codemirror_mode": {
    "name": "ipython",
    "version": 3
   },
   "file_extension": ".py",
   "mimetype": "text/x-python",
   "name": "python",
   "nbconvert_exporter": "python",
   "pygments_lexer": "ipython3",
   "version": "3.8.8"
  }
 },
 "nbformat": 4,
 "nbformat_minor": 2
}
