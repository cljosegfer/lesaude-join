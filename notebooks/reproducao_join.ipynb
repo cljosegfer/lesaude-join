{
 "cells": [
  {
   "cell_type": "markdown",
   "metadata": {},
   "source": [
    "# setup"
   ]
  },
  {
   "cell_type": "code",
   "execution_count": 1,
   "metadata": {},
   "outputs": [],
   "source": [
    "import os\n",
    "\n",
    "if os.getcwd().split('/')[-1] == 'notebooks':\n",
    "    os.chdir('..')"
   ]
  },
  {
   "cell_type": "code",
   "execution_count": 2,
   "metadata": {},
   "outputs": [],
   "source": [
    "import torch\n",
    "import torch.nn as nn\n",
    "\n",
    "from tqdm import tqdm\n",
    "from torch.utils.data import DataLoader"
   ]
  },
  {
   "cell_type": "code",
   "execution_count": 3,
   "metadata": {},
   "outputs": [],
   "source": [
    "from dataloaders.code15text import CODE, CODEsplit\n",
    "from models.baseline import ResnetBaseline\n",
    "from utils import get_inputs"
   ]
  },
  {
   "cell_type": "markdown",
   "metadata": {},
   "source": [
    "# init"
   ]
  },
  {
   "cell_type": "code",
   "execution_count": 4,
   "metadata": {},
   "outputs": [],
   "source": [
    "device = torch.device('cuda' if torch.cuda.is_available() else 'cpu')\n",
    "\n",
    "database = CODE()\n",
    "signal_model = ResnetBaseline(n_classes = 6)"
   ]
  },
  {
   "cell_type": "markdown",
   "metadata": {},
   "source": [
    "# class"
   ]
  },
  {
   "cell_type": "code",
   "execution_count": 5,
   "metadata": {},
   "outputs": [],
   "source": [
    "class JoinText(nn.Module):\n",
    "  def __init__(\n",
    "      self,\n",
    "      signal_model,\n",
    "\n",
    "      signal_in_chanels = 1280,\n",
    "      text_in_chanels = 768,\n",
    "      out_chanels = 1280,\n",
    "    ):\n",
    "    \n",
    "      super().__init__()\n",
    "      self.signal_model = signal_model\n",
    "\n",
    "      self.signal_in_chanels = signal_in_chanels\n",
    "      self.text_in_chanels = text_in_chanels\n",
    "      self.out_chanels = out_chanels\n",
    "      \n",
    "      self.W_s = nn.Linear(self.signal_in_chanels, self.out_chanels)\n",
    "      self.W_t = nn.Linear(self.text_in_chanels, self.out_chanels)\n",
    "\n",
    "  def forward(\n",
    "      self,\n",
    "      signal,\n",
    "      text_features,\n",
    "    ):\n",
    "    \n",
    "      output = self.signal_model(signal)\n",
    "      signal_embedding = output['signal_embedding']\n",
    "      logits = output['logits']\n",
    "\n",
    "      signal_embedding = self.W_s(signal_embedding)\n",
    "      text_embedding = self.W_t(text_features)\n",
    "\n",
    "      return {'logits': logits, 'signal_embedding': signal_embedding, 'text_embedding': text_embedding}"
   ]
  },
  {
   "cell_type": "markdown",
   "metadata": {},
   "source": [
    "# draft"
   ]
  },
  {
   "cell_type": "code",
   "execution_count": 6,
   "metadata": {},
   "outputs": [],
   "source": [
    "trn_ds = CODEsplit(database, database.trn_metadata)\n",
    "trn_loader = DataLoader(trn_ds, batch_size = 42, shuffle = True, num_workers = 6)"
   ]
  },
  {
   "cell_type": "code",
   "execution_count": 7,
   "metadata": {},
   "outputs": [
    {
     "data": {
      "text/plain": [
       "(torch.Size([42, 4096, 12]), torch.Size([42, 6]), torch.Size([42, 768]))"
      ]
     },
     "execution_count": 7,
     "metadata": {},
     "output_type": "execute_result"
    }
   ],
   "source": [
    "for batch in (trn_loader):\n",
    "    break\n",
    "batch['x'].shape, batch['y'].shape, batch['h'].shape"
   ]
  },
  {
   "cell_type": "code",
   "execution_count": 11,
   "metadata": {},
   "outputs": [],
   "source": [
    "raw = batch['x']\n",
    "label = batch['y']\n",
    "text_features = batch['h']\n",
    "\n",
    "ecg = get_inputs(raw, device = device)\n",
    "label = label.to(device).float()\n",
    "text_features = text_features.to(device).float()"
   ]
  },
  {
   "cell_type": "code",
   "execution_count": 9,
   "metadata": {},
   "outputs": [],
   "source": [
    "model = JoinText(signal_model = signal_model)\n",
    "model = model.to(device)"
   ]
  },
  {
   "cell_type": "code",
   "execution_count": 12,
   "metadata": {},
   "outputs": [],
   "source": [
    "model.eval()\n",
    "with torch.no_grad():\n",
    "    output = model(ecg, text_features)\n",
    "    logits = output['logits']\n",
    "    signal_embedding = output['signal_embedding']\n",
    "    text_embedding = output['text_embedding']"
   ]
  },
  {
   "cell_type": "code",
   "execution_count": 13,
   "metadata": {},
   "outputs": [
    {
     "data": {
      "text/plain": [
       "(torch.Size([42, 6]), torch.Size([42, 1280]), torch.Size([42, 1280]))"
      ]
     },
     "execution_count": 13,
     "metadata": {},
     "output_type": "execute_result"
    }
   ],
   "source": [
    "logits.shape, signal_embedding.shape, text_embedding.shape"
   ]
  },
  {
   "cell_type": "code",
   "execution_count": 9,
   "metadata": {},
   "outputs": [],
   "source": [
    "# signal_model = signal_model.to(device)"
   ]
  },
  {
   "cell_type": "code",
   "execution_count": 10,
   "metadata": {},
   "outputs": [],
   "source": [
    "# signal_model.eval()\n",
    "# with torch.no_grad():\n",
    "#     output = signal_model(ecg)\n",
    "#     logits = output['logits']\n",
    "#     signal_embedding = output['signal_embedding']"
   ]
  },
  {
   "cell_type": "code",
   "execution_count": 11,
   "metadata": {},
   "outputs": [
    {
     "data": {
      "text/plain": [
       "(torch.Size([42, 6]), torch.Size([42, 1280]))"
      ]
     },
     "execution_count": 11,
     "metadata": {},
     "output_type": "execute_result"
    }
   ],
   "source": [
    "# logits.shape, signal_embedding.shape"
   ]
  }
 ],
 "metadata": {
  "kernelspec": {
   "display_name": "clip",
   "language": "python",
   "name": "python3"
  },
  "language_info": {
   "codemirror_mode": {
    "name": "ipython",
    "version": 3
   },
   "file_extension": ".py",
   "mimetype": "text/x-python",
   "name": "python",
   "nbconvert_exporter": "python",
   "pygments_lexer": "ipython3",
   "version": "3.8.8"
  }
 },
 "nbformat": 4,
 "nbformat_minor": 2
}
